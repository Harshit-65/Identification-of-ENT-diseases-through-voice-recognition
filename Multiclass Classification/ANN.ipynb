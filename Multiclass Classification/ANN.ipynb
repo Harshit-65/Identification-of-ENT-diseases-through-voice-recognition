{
  "nbformat": 4,
  "nbformat_minor": 0,
  "metadata": {
    "colab": {
      "provenance": [],
      "collapsed_sections": [
        "rJn8ppaqeG5R"
      ]
    },
    "kernelspec": {
      "name": "python3",
      "display_name": "Python 3"
    },
    "language_info": {
      "name": "python"
    }
  },
  "cells": [
    {
      "cell_type": "markdown",
      "source": [
        "#IDENTIFICATION OF ENT DISEASES THROUGH VOICE RECOGINATION.\n",
        "mount google drive"
      ],
      "metadata": {
        "id": "hTHL7YAkBVjN"
      }
    },
    {
      "cell_type": "code",
      "execution_count": null,
      "metadata": {
        "id": "iSsHccwQ4L6K",
        "colab": {
          "base_uri": "https://localhost:8080/"
        },
        "outputId": "31fd7a8b-9b65-44b4-d22d-a7e121069d82"
      },
      "outputs": [
        {
          "output_type": "stream",
          "name": "stdout",
          "text": [
            "Drive already mounted at /content/drive; to attempt to forcibly remount, call drive.mount(\"/content/drive\", force_remount=True).\n"
          ]
        }
      ],
      "source": [
        "from google.colab import drive\n",
        "drive.mount('/content/drive')"
      ]
    },
    {
      "cell_type": "markdown",
      "source": [
        "\n",
        "##Import libraries"
      ],
      "metadata": {
        "id": "m4xVFCkHAMT9"
      }
    },
    {
      "cell_type": "code",
      "source": [
        "import os\n",
        "import re\n",
        "import glob\n",
        "from tqdm import tqdm\n",
        "from sklearn.model_selection import cross_val_score\n",
        "import tensorflow as tf\n",
        "print(tf.__version__)\n",
        "import librosa\n",
        "from sklearn.model_selection import train_test_split\n",
        "\n",
        "import pandas as pd\n",
        "import numpy as np\n",
        "import matplotlib.pyplot as plt\n",
        "from tensorflow.keras.models import Sequential\n",
        "from tensorflow.keras.layers import Dense,Dropout,Activation,Flatten\n",
        "from tensorflow.keras.optimizers import Adam\n",
        "\n",
        "from sklearn import metrics\n",
        "\n",
        "#/content/drive/MyDrive/sbvoiceDataset/Dataset/female_Hyperfunktionelle_Dysphonie/1037-a_h.wav"
      ],
      "metadata": {
        "id": "njTqnpZf5NuZ",
        "colab": {
          "base_uri": "https://localhost:8080/"
        },
        "outputId": "0e093a5f-97ec-4a93-dc5c-9163ed6f11e2"
      },
      "execution_count": null,
      "outputs": [
        {
          "output_type": "stream",
          "name": "stdout",
          "text": [
            "2.15.0\n"
          ]
        }
      ]
    },
    {
      "cell_type": "markdown",
      "source": [
        "## DATA PREPROCESSING.\n",
        "### Extract Features\n",
        "Here we will be using Mel-Frequency Cepstral Coefficients(MFCC) && Linear Predictive Cepstral Coefficients (LPCC) from the audio samples.\n",
        "\n",
        "description of functions:\n",
        "- def features_extractor_MFCC(file_name) : extract MFCC feature and normalize it(into 1-D arr of size 40) given a path of audio_file \"file_name\".\n",
        "output: 1-D MFCC feature (size = 40 -> to change size change\"n_mfcc\" )\n",
        "-features_extractor_lpcc: similar to MFCC return LPCC feature of size 24.\n",
        "-features_extractor_currect_folder: This is a utility fxn to extract MFCC of  all audio file in current folder=\"folderpath\""
      ],
      "metadata": {
        "id": "ZytgoyHg5X_P"
      }
    },
    {
      "cell_type": "code",
      "source": [
        "from sklearn.preprocessing import StandardScaler\n",
        "\n",
        "\n",
        "def features_extractor_lpcc(file_name):\n",
        "    audio, sample_rate = librosa.load(file_name)\n",
        "    lpc_coefficients = librosa.lpc(audio, order=12)\n",
        "    epsilon = 1e-10\n",
        "    powerspectrum = np.abs(np.fft.fft(lpc_coefficients)) ** 2\n",
        "    lpc_coefficients_offset = np.maximum(powerspectrum, epsilon)\n",
        "    lpcc_features = np.fft.irfft(np.log(lpc_coefficients_offset))\n",
        "    return lpcc_features\n",
        "\n",
        "def features_extractor_MFCC(file_name):# extract mfcc normalise it\n",
        "    audio, sample_rate = librosa.load(file_name)\n",
        "    mfccs_features = librosa.feature.mfcc(y=audio, sr=sample_rate, n_mfcc=40)\n",
        "    mfccs_scaled_features = np.mean(mfccs_features.T,axis=0)\n",
        "\n",
        "    return mfccs_scaled_features\n",
        "\n",
        "# iterate through all file in current folder ans call MFcc fxn return labeled feature {mfcc,label}\n",
        "def features_extractor_currect_folder(foldername,label):\n",
        "  label_feature=[]\n",
        "  for filename in tqdm(glob.glob(foldername+'/*.wav')):\n",
        "    data=features_extractor_MFCC(filename)\n",
        "    data_lpcc=features_extractor_lpcc(filename)\n",
        "    data = np.concatenate((data, data_lpcc), axis=0)\n",
        "    label_feature.append([data,label])\n",
        "\n",
        "  return label_feature\n",
        "\n",
        "\n"
      ],
      "metadata": {
        "id": "qq8bSbpo5ZeY"
      },
      "execution_count": null,
      "outputs": []
    },
    {
      "cell_type": "code",
      "source": [
        "data_lpcc=features_extractor_lpcc(\"/content/drive/MyDrive/sbvoiceDataset/Dataset/female_Hyperfunktionelle_Dysphonie/1037-a_h.wav\")\n",
        "data_lpcc"
      ],
      "metadata": {
        "colab": {
          "base_uri": "https://localhost:8080/"
        },
        "id": "MI1-M3Qo4iiL",
        "outputId": "85ed7054-cf22-40ef-a99b-fa8fb2df8453"
      },
      "execution_count": null,
      "outputs": [
        {
          "output_type": "execute_result",
          "data": {
            "text/plain": [
              "array([ 0.75728234, -0.58179898, -1.51731968, -0.16540426, -0.42096893,\n",
              "       -0.21073785, -0.34440479, -0.17862129, -0.30192544, -0.06836431,\n",
              "       -0.22716163, -0.06079651, -0.21095387, -0.06079651, -0.22716163,\n",
              "       -0.06836431, -0.30192544, -0.17862129, -0.34440479, -0.21073785,\n",
              "       -0.42096893, -0.16540426, -1.51731968, -0.58179898])"
            ]
          },
          "metadata": {},
          "execution_count": 4
        }
      ]
    },
    {
      "cell_type": "markdown",
      "source": [
        "\n",
        "## extrating feature and labeling dataset.\n",
        "iterate through all folder one by one extracted mfcc for each file in that folder assig label based on folder name content keyword \" healty -> 1\" or \" unhealthy -> 0\".\n",
        "\n",
        "example: Foldername\n",
        "             -> folder_with_disease_name -> audio_file_name\n",
        "<br>\n",
        "so based on diseases name we label all file in folder with same label.\n"
      ],
      "metadata": {
        "id": "hUhY60bY6oGB"
      }
    },
    {
      "cell_type": "code",
      "source": [
        "folder_path='/content/drive/MyDrive/sbvoiceDataset/Dataset'\n",
        "folders_labels=[[flder, 1 if 'healthy' in flder[len(folder_path):] else 0 ]for flder in glob.glob(folder_path+'/*')]\n",
        "\n",
        "folder_path=\"/content/drive/MyDrive/sbvoiceAUG_Dataset/AUG_Dataset/\"\n",
        "folders_labels2=[[flder, 1 if 'healthy' in flder[len(folder_path):] else 0 ]for flder in glob.glob(folder_path+'/*')]\n",
        "\n",
        "label_features = []\n",
        "\n",
        "for folder , label in (folders_labels):\n",
        "  label_features.extend(features_extractor_currect_folder(folder,label))\n",
        "\n",
        "for folder , label in (folders_labels2):\n",
        "  label_features.extend(features_extractor_currect_folder(folder,label))\n",
        "\n",
        "print(len(label_features))\n"
      ],
      "metadata": {
        "colab": {
          "base_uri": "https://localhost:8080/"
        },
        "id": "qFs4vvGs01dT",
        "outputId": "93753d7c-bb6f-46ce-a8bb-61f903d6c099"
      },
      "execution_count": null,
      "outputs": [
        {
          "output_type": "stream",
          "name": "stderr",
          "text": [
            "100%|██████████| 533/533 [01:04<00:00,  8.25it/s]\n",
            "100%|██████████| 299/299 [00:18<00:00, 16.27it/s]\n",
            "100%|██████████| 533/533 [00:30<00:00, 17.45it/s]\n",
            "100%|██████████| 533/533 [00:51<00:00, 10.43it/s]\n",
            "100%|██████████| 533/533 [00:31<00:00, 16.77it/s]\n",
            "100%|██████████| 448/448 [00:27<00:00, 16.30it/s]\n",
            "100%|██████████| 533/533 [00:34<00:00, 15.34it/s]\n",
            "100%|██████████| 299/299 [00:16<00:00, 18.47it/s]\n",
            "100%|██████████| 533/533 [00:26<00:00, 20.17it/s]\n",
            "100%|██████████| 533/533 [00:28<00:00, 18.66it/s]\n",
            "100%|██████████| 533/533 [00:27<00:00, 19.62it/s]\n",
            "100%|██████████| 448/448 [00:22<00:00, 19.49it/s]\n"
          ]
        },
        {
          "output_type": "stream",
          "name": "stdout",
          "text": [
            "5758\n"
          ]
        }
      ]
    },
    {
      "cell_type": "markdown",
      "source": [
        "#### For Multiclass labeling precessing code."
      ],
      "metadata": {
        "id": "PJ-7ZNGAWQYa"
      }
    },
    {
      "cell_type": "code",
      "source": [
        "folder_path=\"/content/drive/MyDrive/sbvoiceDataset/Dataset/\"\n",
        "folders_labels = [\n",
        "    (\n",
        "        flder,\n",
        "        0 if 'healthy' in flder[len(folder_path):] else\n",
        "        1 if 'Dysphonie' in flder[len(folder_path):] else\n",
        "        2 if 'laryngitis' in flder[len(folder_path):] else -1  # Default label if none match\n",
        "    )\n",
        "    for flder in glob.glob(folder_path + '/*')\n",
        "]\n",
        "print(folders_labels)\n",
        "\n",
        "folder_path2=\"/content/drive/MyDrive/sbvoiceAUG_Dataset/AUG_Dataset/\"\n",
        "folders_labels2= [\n",
        "    (\n",
        "        flder,\n",
        "        0 if 'healthy' in flder[len(folder_path2):] else\n",
        "        1 if 'Dysphonie' in flder[len(folder_path2):] else\n",
        "        2 if 'laryngitis' in flder[len(folder_path2):] else -1  # Default label if none match\n",
        "        ,\n",
        "\n",
        "    )\n",
        "    for flder in glob.glob(folder_path2 + '/*')\n",
        "]\n",
        "print(folders_labels2)"
      ],
      "metadata": {
        "id": "pJaPr6s7Dhvc",
        "colab": {
          "base_uri": "https://localhost:8080/"
        },
        "outputId": "8d1cad63-7c35-45b7-85ca-e129b840df77"
      },
      "execution_count": null,
      "outputs": [
        {
          "output_type": "stream",
          "name": "stdout",
          "text": [
            "[('/content/drive/MyDrive/sbvoiceDataset/Dataset/female_Hyperfunktionelle_Dysphonie', 1), ('/content/drive/MyDrive/sbvoiceDataset/Dataset/female_laryngitis', 2), ('/content/drive/MyDrive/sbvoiceDataset/Dataset/male_Hyperfunktionelle_Dysphonie', 1), ('/content/drive/MyDrive/sbvoiceDataset/Dataset/male_laryngitis', 2), ('/content/drive/MyDrive/sbvoiceDataset/Dataset/female_healthy', 0), ('/content/drive/MyDrive/sbvoiceDataset/Dataset/male_healthy', 0)]\n",
            "[('/content/drive/MyDrive/sbvoiceAUG_Dataset/AUG_Dataset/female_Hyperfunktionelle_Dysphonie', 1), ('/content/drive/MyDrive/sbvoiceAUG_Dataset/AUG_Dataset/female_laryngitis', 2), ('/content/drive/MyDrive/sbvoiceAUG_Dataset/AUG_Dataset/male_Hyperfunktionelle_Dysphonie', 1), ('/content/drive/MyDrive/sbvoiceAUG_Dataset/AUG_Dataset/male_laryngitis', 2), ('/content/drive/MyDrive/sbvoiceAUG_Dataset/AUG_Dataset/female_healthy', 0), ('/content/drive/MyDrive/sbvoiceAUG_Dataset/AUG_Dataset/male_healthy', 0)]\n"
          ]
        }
      ]
    },
    {
      "cell_type": "code",
      "source": [
        "label_features = []\n",
        "\n",
        "for folder , label in (folders_labels):\n",
        "  label_features.extend(features_extractor_currect_folder(folder,label,len(folder_path2)))\n",
        "\n",
        "for folder , label in (folders_labels2):\n",
        "  label_features.extend(features_extractor_currect_folder(folder,label,len(folder_path2)))\n",
        "\n",
        "print(len(label_features))\n"
      ],
      "metadata": {
        "colab": {
          "base_uri": "https://localhost:8080/"
        },
        "id": "xhZJUSoZJ0ZP",
        "outputId": "3a140e25-791d-4df4-e811-8d12546b08b5"
      },
      "execution_count": null,
      "outputs": [
        {
          "output_type": "stream",
          "name": "stderr",
          "text": [
            "100%|██████████| 533/533 [00:47<00:00, 11.29it/s]\n",
            "100%|██████████| 299/299 [00:20<00:00, 14.60it/s]\n",
            "100%|██████████| 533/533 [00:55<00:00,  9.54it/s]\n",
            "100%|██████████| 533/533 [00:44<00:00, 11.98it/s]\n",
            "100%|██████████| 533/533 [00:46<00:00, 11.57it/s]\n",
            " 70%|███████   | 315/448 [00:29<00:13, 10.16it/s]"
          ]
        }
      ]
    },
    {
      "cell_type": "markdown",
      "source": [
        "### Save the processed data in JSON format"
      ],
      "metadata": {
        "id": "4FLtsF31QrGz"
      }
    },
    {
      "cell_type": "code",
      "source": [
        "label_features_df=pd.DataFrame(label_features,columns=['feature','class'])\n",
        "print(label_features_df.tail())\n",
        "\n",
        "processed_data_path_filename=\"/content/drive/MyDrive/sbvoiceDataset/\"\n",
        "\n",
        "#uncomment this to save then run cell..\n",
        "label_features_df.to_json(processed_data_path_filename+'processed_data_filename_version.json')"
      ],
      "metadata": {
        "id": "nYBrGkUl70UD",
        "colab": {
          "base_uri": "https://localhost:8080/"
        },
        "outputId": "5b41450c-e83e-4de9-c17e-40fb29474052"
      },
      "execution_count": null,
      "outputs": [
        {
          "output_type": "stream",
          "name": "stdout",
          "text": [
            "                                                feature  class\n",
            "5753  [-70.88627, 21.125088, 22.317429, 16.21537, 9....      1\n",
            "5754  [-88.161285, 24.990473, 21.917425, 13.422932, ...      1\n",
            "5755  [-186.6251, 55.567924, 46.357048, 31.229801, 1...      1\n",
            "5756  [-64.05237, 31.217848, 14.517754, -3.2514853, ...      1\n",
            "5757  [-221.32681, 85.340836, 53.363785, 24.329664, ...      1\n"
          ]
        }
      ]
    },
    {
      "cell_type": "markdown",
      "source": [
        "### Load processed data for other processing if needed"
      ],
      "metadata": {
        "id": "OIR9HDpq8WWK"
      }
    },
    {
      "cell_type": "code",
      "source": [
        "path=\"/content/drive/MyDrive/sbvoiceAUG_Dataset/\"\n",
        "\n",
        "label_features_df_saved=pd.read_json('/content/drive/MyDrive/sbvoiceAUG_Dataset/processed_data_multiclass_with_mfcc_lpcc.json')\n",
        "# label_features_df_saved['class'] = label_features_df_saved['class'].apply(lambda x: 1 if x > 0 else x)\n",
        "print(label_features_df_saved['class'].unique())\n",
        "\n",
        "X=np.array(label_features_df_saved['feature'].tolist())\n",
        "Y=np.array(label_features_df_saved['class'].tolist())\n",
        "Y=Y.reshape((-1,1))"
      ],
      "metadata": {
        "id": "6jT4XXek8fjw",
        "colab": {
          "base_uri": "https://localhost:8080/"
        },
        "outputId": "e7358c64-ceec-4330-e8f1-5ce93f84847e"
      },
      "execution_count": null,
      "outputs": [
        {
          "output_type": "stream",
          "name": "stdout",
          "text": [
            "[1 2 0]\n"
          ]
        }
      ]
    },
    {
      "cell_type": "markdown",
      "source": [
        "### SOME OTHER PROCESSING TECHNIQUE\n",
        "+ PCA\n",
        "+ DATA AUGUMENTATION."
      ],
      "metadata": {
        "id": "XB6VoxpdRh9v"
      }
    },
    {
      "cell_type": "code",
      "source": [
        "from sklearn.preprocessing import StandardScaler\n",
        "from sklearn.decomposition import PCA\n",
        "\n",
        "# # Standardize the data\n",
        "# X is input feature .\n",
        "scaler = StandardScaler()\n",
        "X = scaler.fit_transform(X)\n",
        "\n",
        "# Perform PCA\n",
        "pca = PCA(n_components=0.99)  # Choose the number of components that explain 95% of the variance\n",
        "X_train_pca = pca.fit_transform(X)\n",
        "\n",
        "print(len(X[0]))"
      ],
      "metadata": {
        "colab": {
          "base_uri": "https://localhost:8080/"
        },
        "id": "U9h6ejevUFGY",
        "outputId": "7e6627e2-6329-4eb6-b4b6-23467898ee69"
      },
      "execution_count": null,
      "outputs": [
        {
          "output_type": "stream",
          "name": "stdout",
          "text": [
            "7\n",
            "7\n"
          ]
        }
      ]
    },
    {
      "cell_type": "markdown",
      "source": [
        "####DATA AUGMENTATION\n",
        "\n",
        "used library audiomentaion for audio augmentation. both raw and spectogram transformation below cell contain fxn to augment file ."
      ],
      "metadata": {
        "id": "12uBFTjzR1aK"
      }
    },
    {
      "cell_type": "code",
      "source": [
        "!pip install audiomentations"
      ],
      "metadata": {
        "id": "zyKs5KgaSQ82"
      },
      "execution_count": null,
      "outputs": []
    },
    {
      "cell_type": "code",
      "source": [
        "import librosa\n",
        "import numpy as np\n",
        "from audiomentations import Compose, AddGaussianNoise, TimeStretch, SpecCompose, SpecChannelShuffle, SpecFrequencyMask\n",
        "\n",
        "\n",
        "def audio_augmentation_wav(audio_file_path):\n",
        "    # Load the audio data\n",
        "    audio, sr = librosa.load(audio_file_path)\n",
        "\n",
        "    # Create a Compose object with various audio transformations\n",
        "    transform = Compose([\n",
        "       AddGaussianNoise(min_amplitude=0.001, max_amplitude=0.085,p=1),\n",
        "       TimeStretch(min_rate=0.8, max_rate=1.15, p=0.8),\n",
        "    ])\n",
        "\n",
        "    # Apply the transformations to the audio data\n",
        "    augmented_audio = transform(audio, sr)\n",
        "\n",
        "    return augmented_audio,sr\n",
        "\n",
        "#example :augmented_mfccs=audio_augmentation_spec(mfccs) extract mfcc without normalizing it (2-D array)\n",
        "\n",
        "def audio_augmentation_spec(spec):\n",
        "    # Create a Compose object with various spectrogram transformations\n",
        "    transform = SpecCompose([\n",
        "        SpecFrequencyMask(p=0.6),\n",
        "    ])\n",
        "\n",
        "    # Apply the transformations to the spectrogram\n",
        "    augmented_spec = transform(spec)\n",
        "\n",
        "    return augmented_spec\n"
      ],
      "metadata": {
        "id": "xvuWQonfSU9b"
      },
      "execution_count": null,
      "outputs": []
    },
    {
      "cell_type": "code",
      "source": [
        "# augment mfcss variable using audio_augmentation spec  and print spec before and after augmentation\n",
        "\n",
        "import matplotlib.pyplot as plt\n",
        "# filename: path of file to be augmented\n",
        "audio, sample_rate = librosa.load(file_name)\n",
        "mfccss = librosa.feature.mfcc(y=audio, sr=sample_rate, n_mfcc=40)\n",
        "augmented_mfccs=audio_augmentation_spec(mfccs)\n",
        "\n",
        "# Print the original and augmented MFCCs\n",
        "print(\"Original MFCCs shape:\", mfccs.shape)\n",
        "print(\"Augmented MFCCs shape:\", augmented_mfccs.shape)\n",
        "\n",
        "# Plot the original and augmented MFCCs\n",
        "plt.figure(figsize=(10, 5))\n",
        "plt.subplot(1, 2, 1)\n",
        "librosa.display.specshow(mfccs, x_axis='time', y_axis='mel', sr=librosa_sample_rate)\n",
        "plt.title('Original MFCCs')\n",
        "plt.colorbar()\n",
        "\n",
        "plt.subplot(1, 2, 2)\n",
        "librosa.display.specshow(augmented_mfccs, x_axis='time', y_axis='mel', sr=librosa_sample_rate)\n",
        "plt.title('Augmented MFCCs')\n",
        "plt.colorbar()\n",
        "plt.show()\n"
      ],
      "metadata": {
        "id": "_kT2j8CMTNrp"
      },
      "execution_count": null,
      "outputs": []
    },
    {
      "cell_type": "code",
      "source": [
        "#plot that difference of mfccs and augmented_mfccs\n",
        "\n",
        "import matplotlib.pyplot as plt\n",
        "\n",
        "# Calculate the difference between the original and augmented MFCCs\n",
        "diff_mfccs = mfccs - augmented_mfccs\n",
        "\n",
        "# Plot the difference\n",
        "plt.figure(figsize=(10, 5))\n",
        "librosa.display.specshow(diff_mfccs, x_axis='time', y_axis='mel', sr=librosa_sample_rate)\n",
        "plt.title('Difference between Original and Augmented MFCCs')\n",
        "plt.colorbar()\n",
        "plt.show()\n"
      ],
      "metadata": {
        "id": "oyd3kPwDTQYY"
      },
      "execution_count": null,
      "outputs": []
    },
    {
      "cell_type": "code",
      "source": [
        "## HERE we want to Augment data only once so in this cell we can write code for extracting\n",
        "## files one by one augment it and save file if raw in some other folder then orginal\n",
        "## data or then apply spec transformation on saved augmented data and then save the processed data in JSON."
      ],
      "metadata": {
        "id": "i8HqcMc-UUaY"
      },
      "execution_count": null,
      "outputs": []
    },
    {
      "cell_type": "markdown",
      "source": [
        "###TRAING MODEL..\n",
        " DEFINE MODEL ARCHITECTURE ( NO OF LAYERS.. OPTMIZER,LOSS FXN, ACTIVATION FXN ETC )"
      ],
      "metadata": {
        "id": "4hgbwohoDMCw"
      }
    },
    {
      "cell_type": "markdown",
      "source": [
        "Split the data"
      ],
      "metadata": {
        "id": "XKcb1f5g8x0d"
      }
    },
    {
      "cell_type": "code",
      "source": [
        "from sklearn.model_selection import train_test_split\n",
        "\n",
        "X_train,X_test,Y_train,Y_test=train_test_split(X,Y,test_size=0.2,random_state=0)\n",
        "\n",
        "print(X_train.shape,X_test.shape)\n",
        "print(Y_train.shape,Y_test.shape)\n"
      ],
      "metadata": {
        "id": "FtxvB-Z6833a",
        "colab": {
          "base_uri": "https://localhost:8080/"
        },
        "outputId": "9c8b3f44-268c-463b-c511-64dc838ede1a"
      },
      "execution_count": null,
      "outputs": [
        {
          "output_type": "stream",
          "name": "stdout",
          "text": [
            "(4606, 64) (1152, 64)\n",
            "(4606, 1) (1152, 1)\n"
          ]
        }
      ]
    },
    {
      "cell_type": "code",
      "source": [
        "\n",
        "def create_model(input_size):\n",
        "    model=Sequential()\n",
        "    ###first layer\n",
        "    model.add(Dense(100,input_shape=(input_size,)))\n",
        "    model.add(Activation('relu'))\n",
        "    model.add(Dropout(0.2))\n",
        "    ###second layer\n",
        "    model.add(Dense(200))\n",
        "    model.add(Activation('relu'))\n",
        "    model.add(Dropout(0.2))\n",
        "    ###third layer\n",
        "    model.add(Dense(100))\n",
        "    model.add(Activation('relu'))\n",
        "    model.add(Dropout(0.2))\n",
        "\n",
        "    ###4th layer\n",
        "    model.add(Dense(32))\n",
        "    model.add(Activation('relu'))\n",
        "    model.add(Dropout(0.2))\n",
        "\n",
        "    ###final layer\n",
        "    model.add(Dense(1))\n",
        "    model.add(Activation('sigmoid'))\n",
        "\n",
        "    learning_rate = 0.0005  # Adjust the learning rate as needed\n",
        "    optimizer = Adam(learning_rate=learning_rate)\n",
        "    model.compile(loss='BinaryCrossentropy',metrics=['accuracy'],optimizer=optimizer)\n",
        "\n",
        "    return model\n"
      ],
      "metadata": {
        "id": "c3hljxnl9Rtf"
      },
      "execution_count": null,
      "outputs": []
    },
    {
      "cell_type": "markdown",
      "source": [
        "## ANN MODEL.."
      ],
      "metadata": {
        "id": "Fq0UAETbDaLM"
      }
    },
    {
      "cell_type": "markdown",
      "source": [
        "#### ANN MODEL ARCHTECTURE.."
      ],
      "metadata": {
        "id": "alwSXyIjcEJZ"
      }
    },
    {
      "cell_type": "code",
      "source": [
        "# from sklearn.model_selection import cross_val_score\n",
        "from sklearn.model_selection import StratifiedKFold\n",
        "\n",
        "def create_model_ann(input_size):\n",
        "    model=Sequential()\n",
        "    ###first layer\n",
        "    model.add(Dense(300,input_shape=(input_size,)))\n",
        "    model.add(Activation('relu'))\n",
        "    model.add(Dropout(0.2))\n",
        "    ###second layer\n",
        "    model.add(Dense(200))\n",
        "    model.add(Activation('relu'))\n",
        "    model.add(Dropout(0.2))\n",
        "    ###third layer\n",
        "    model.add(Dense(200))\n",
        "    model.add(Activation('relu'))\n",
        "    model.add(Dropout(0.2))\n",
        "    ###4th layer\n",
        "    model.add(Dense(200))\n",
        "    model.add(Activation('relu'))\n",
        "    model.add(Dropout(0.2))\n",
        "    ###5th layer\n",
        "    model.add(Dense(32))\n",
        "    model.add(Activation('relu'))\n",
        "    model.add(Dropout(0.2))\n",
        "\n",
        "    ###final layer\n",
        "    model.add(Dense(3))\n",
        "    model.add(Activation('softmax'))\n",
        "\n",
        "    learning_rate = 0.00075  # Adjust the learning rate as needed\n",
        "    optimizer = Adam(learning_rate=learning_rate)\n",
        "\n",
        "    model.compile(loss='sparse_categorical_crossentropy',metrics=['accuracy'],optimizer=optimizer)\n",
        "    return model\n",
        "# # Load the saved model\n",
        "# loaded_model = load_model(model_path)\n",
        "# test_accuracy=loaded_model.evaluate(X_test,Y_test,verbose=0)\n",
        "# print(test_accuracy[1])\n",
        "# estimator = KerasClassifier(build_fn=create_model, epochs=500, batch_size=150, verbose=0)\n",
        "# kfold = StratifiedKFold(n_splits=5, shuffle=True, random_state=42)  # Adjust the number of splits as needed\n",
        "# results = cross_val_score(estimator, X, Y, cv=kfold,scoring='accuracy')"
      ],
      "metadata": {
        "id": "yx8Y04gfcHPz"
      },
      "execution_count": null,
      "outputs": []
    },
    {
      "cell_type": "markdown",
      "source": [
        "####CROSS - VALIDATION SCORE..\n",
        "calculate for cross validation score before start trainng for designed architecture.."
      ],
      "metadata": {
        "id": "nHJdq9gt_Y3M"
      }
    },
    {
      "cell_type": "code",
      "source": [
        "!pip install scikeras"
      ],
      "metadata": {
        "id": "r8UmyTs_ysdy"
      },
      "execution_count": null,
      "outputs": []
    },
    {
      "cell_type": "code",
      "source": [
        "\n",
        "\n",
        "from scikeras.wrappers import KerasClassifier\n",
        "from sklearn.model_selection import cross_val_score\n",
        "from sklearn.model_selection import StratifiedKFold\n",
        "\n",
        "estimator = KerasClassifier(build_fn=create_model, epochs=100, batch_size=256, verbose=0)\n",
        "kfold = StratifiedKFold(n_splits=5, shuffle=True, random_state=42)  # Adjust the number of splits as needed\n",
        "results = cross_val_score(estimator, X_train, Y_train, cv=kfold,scoring='accuracy')"
      ],
      "metadata": {
        "id": "hgb1kMB4_GV-"
      },
      "execution_count": null,
      "outputs": []
    },
    {
      "cell_type": "code",
      "source": [
        "results.mean()"
      ],
      "metadata": {
        "colab": {
          "base_uri": "https://localhost:8080/"
        },
        "id": "0iW2eGfEyeRV",
        "outputId": "f1f916ac-85c7-4f48-bf64-998bf8b730f9"
      },
      "execution_count": null,
      "outputs": [
        {
          "output_type": "execute_result",
          "data": {
            "text/plain": [
              "0.7262286819240615"
            ]
          },
          "metadata": {},
          "execution_count": 31
        }
      ]
    },
    {
      "cell_type": "markdown",
      "source": [
        "#### START TRAINING\n",
        "it will save parameter with higher accuracy automatically if achived while training..(change path while exprimenting not to overwrite parametera saved).."
      ],
      "metadata": {
        "id": "knJ5Kae3-HtJ"
      }
    },
    {
      "cell_type": "code",
      "source": [
        "## Trianing my model\n",
        "from tensorflow.keras.callbacks import ModelCheckpoint\n",
        "from datetime import datetime\n",
        "\n",
        "# model=create_model_ann(len(X_train_pca[0]))\n",
        "model = create_model(len(X_train_pca[0]))\n",
        "print(model.summary())\n",
        "# model.compile(loss='BinaryCrossentropy',metrics=['accuracy'],optimizer='adam')\n",
        "\n",
        "num_epochs = 400\n",
        "num_batch_size = 64\n",
        "\n",
        "checkpointer = ModelCheckpoint(filepath=path+'/saved_models/dieases_classification_lpcc_pca.hdf5',\n",
        "                               monitor='val_accuracy',  # Monitor validation accuracy\n",
        "                               verbose=1,\n",
        "                               save_best_only=True,  # Save only the best model\n",
        "                               mode='max')\n",
        "\n",
        "start = datetime.now()\n",
        "\n",
        "model.fit(X_train_pca, Y_train, batch_size=num_batch_size, epochs=num_epochs, validation_data=(X_test_pca, Y_test), callbacks=[checkpointer], verbose=1)\n",
        "\n",
        "\n",
        "duration = datetime.now() - start\n",
        "print(\"Training completed in time: \", duration)"
      ],
      "metadata": {
        "id": "ftEkLqoH-HQ_"
      },
      "execution_count": null,
      "outputs": []
    },
    {
      "cell_type": "markdown",
      "source": [
        "### LOAD THE SAVED MODEL..print result such as accuracy,F1-score along with Confusion matrix for then saved model."
      ],
      "metadata": {
        "id": "DDR3cWOOaIdH"
      }
    },
    {
      "cell_type": "code",
      "source": [
        "import matplotlib.pyplot as plt\n",
        "import numpy as np\n",
        "# Load the saved model\n",
        "loaded_model = tf.keras.models.load_model(path+'/saved_models/dieases_classification_lpcc_pca.hdf5')\n",
        "\n",
        "# Predict the results\n",
        "Y_pred = loaded_model.predict(X_test)\n",
        "Y_pred = np.argmax(Y_pred, axis=1)\n",
        "\n",
        "# Plot the confusion matrix\n",
        "from sklearn.metrics import confusion_matrix\n",
        "import seaborn as sns\n",
        "\n",
        "cm = confusion_matrix(Y_test, Y_pred)\n",
        "sns.heatmap(cm, annot=True, fmt=\"d\")\n",
        "plt.xlabel(\"Predicted\")\n",
        "plt.ylabel(\"Actual\")\n",
        "plt.title(\"Confusion Matrix\")\n",
        "plt.show()\n",
        "\n",
        "\n",
        "from sklearn.metrics import precision_score, recall_score, accuracy_score\n",
        "# Calculate precision, recall, f1-score, and accuracy\n",
        "precision = precision_score(Y_test, Y_pred, average='macro')\n",
        "recall = recall_score(Y_test, Y_pred, average='macro')\n",
        "f1_score = f1_score(Y_test, Y_pred, average='macro')\n",
        "accuracy = accuracy_score(Y_test, Y_pred)\n",
        "\n",
        "# Print the results\n",
        "print(\"Precision:\", precision)\n",
        "print(\"Recall:\", recall)\n",
        "print(\"F1 Score:\", f1_score)\n",
        "print(\"Accuracy:\", accuracy)"
      ],
      "metadata": {
        "id": "mftz2WBEYVaA"
      },
      "execution_count": null,
      "outputs": []
    },
    {
      "cell_type": "code",
      "source": [
        "#training ANN model...\n",
        "from tensorflow.keras.callbacks import ModelCheckpoint\n",
        "from datetime import datetime\n",
        "\n",
        "model=create_model_ann()\n",
        "\n",
        "num_epochs = 500\n",
        "num_batch_size =128\n",
        "\n",
        "checkpointer = ModelCheckpoint(filepath=path+'/saved_models/ANN_model_on_aug_dataset_7th_layer.hdf5',\n",
        "                               verbose=1)\n",
        "start = datetime.now()\n",
        "\n",
        "model.fit(X_train, Y_train, batch_size=num_batch_size, epochs=num_epochs, validation_data=(X_test, Y_test), callbacks=[checkpointer], verbose=1)\n",
        "\n",
        "duration = datetime.now() - start\n",
        "print(\"Training completed in time: \", duration)"
      ],
      "metadata": {
        "id": "sB2GkYE-chAE"
      },
      "execution_count": null,
      "outputs": []
    },
    {
      "cell_type": "markdown",
      "source": [
        "# BELOW - ALL - CELL are DUMPED CODE..."
      ],
      "metadata": {
        "id": "rJn8ppaqeG5R"
      }
    },
    {
      "cell_type": "code",
      "source": [
        "import matplotlib.pyplot as plt\n",
        "import numpy as np\n",
        "# Load the saved model\n",
        "loaded_model = tf.keras.models.load_model(path+'/saved_models/ANN_model_on_aug_dataset_7th_layer.hdf5')\n",
        "\n",
        "# Predict the results\n",
        "Y_pred = loaded_model.predict(X_test)\n",
        "Y_pred = np.argmax(Y_pred, axis=1)\n",
        "\n",
        "# Plot the confusion matrix\n",
        "from sklearn.metrics import confusion_matrix\n",
        "import seaborn as sns\n",
        "\n",
        "cm = confusion_matrix(Y_test, Y_pred)\n",
        "sns.heatmap(cm, annot=True, fmt=\"d\")\n",
        "plt.xlabel(\"Predicted\")\n",
        "plt.ylabel(\"Actual\")\n",
        "plt.title(\"Confusion Matrix\")\n",
        "plt.show()\n"
      ],
      "metadata": {
        "id": "FGOlVxrC5PeD",
        "colab": {
          "base_uri": "https://localhost:8080/",
          "height": 489
        },
        "outputId": "8f756bcd-e4ab-4e24-874b-3ee5b452e85a"
      },
      "execution_count": null,
      "outputs": [
        {
          "output_type": "stream",
          "name": "stdout",
          "text": [
            "36/36 [==============================] - 0s 3ms/step\n"
          ]
        },
        {
          "output_type": "display_data",
          "data": {
            "text/plain": [
              "<Figure size 640x480 with 2 Axes>"
            ],
            "image/png": "[encoded data removed]"
          },
          "metadata": {}
        }
      ]
    },
    {
      "cell_type": "code",
      "source": [
        "# from sklearn.model_selection import cross_val_score\n",
        "from sklearn.model_selection import StratifiedKFold\n",
        "# # from tensorflow.keras.models import load_model\n",
        "# # model_path = path + '/saved_models/dieases_classification.hdf5'\n",
        "# from scikeras.wrappers import KerasRegressor\n",
        "# from sklearn.preprocessing import StandardScaler\n",
        "# from sklearn.pipeline import Pipeline\n",
        "\n",
        "def create_model_ann_pca():\n",
        "    model=Sequential()\n",
        "    ###first layer\n",
        "    model.add(Dense(300,input_shape=(32,)))\n",
        "    model.add(Activation('relu'))\n",
        "    model.add(Dropout(0.2))\n",
        "    ###second layer\n",
        "    model.add(Dense(200))\n",
        "    model.add(Activation('relu'))\n",
        "    model.add(Dropout(0.2))\n",
        "    ###third layer\n",
        "    model.add(Dense(200))\n",
        "    model.add(Activation('relu'))\n",
        "    model.add(Dropout(0.2))\n",
        "    ###4th layer\n",
        "    model.add(Dense(100))\n",
        "    model.add(Activation('relu'))\n",
        "    model.add(Dropout(0.2))\n",
        "    ###5th layer\n",
        "    model.add(Dense(32))\n",
        "    model.add(Activation('relu'))\n",
        "    model.add(Dropout(0.2))\n",
        "\n",
        "    ###final layer\n",
        "    model.add(Dense(3))\n",
        "    model.add(Activation('softmax'))\n",
        "\n",
        "    learning_rate = 0.0005  # Adjust the learning rate as needed\n",
        "    optimizer = Adam(learning_rate=learning_rate)\n",
        "\n",
        "    model.compile(loss='sparse_categorical_crossentropy',metrics=['accuracy'],optimizer=optimizer)\n",
        "    return model\n",
        "# # Load the saved model\n",
        "# loaded_model = load_model(model_path)\n",
        "# test_accuracy=loaded_model.evaluate(X_test,Y_test,verbose=0)\n",
        "# print(test_accuracy[1])\n",
        "# estimator = KerasClassifier(build_fn=create_model, epochs=500, batch_size=150, verbose=0)\n",
        "# kfold = StratifiedKFold(n_splits=5, shuffle=True, random_state=42)  # Adjust the number of splits as needed\n",
        "# results = cross_val_score(estimator, X, Y, cv=kfold,scoring='accuracy')"
      ],
      "metadata": {
        "id": "B1ySmDtxKiE-"
      },
      "execution_count": null,
      "outputs": []
    },
    {
      "cell_type": "code",
      "source": [
        "#training ANN model...\n",
        "from tensorflow.keras.callbacks import ModelCheckpoint\n",
        "from datetime import datetime\n",
        "\n",
        "model=create_model_ann_pca()\n",
        "\n",
        "num_epochs = 400\n",
        "num_batch_size =64\n",
        "\n",
        "checkpointer = ModelCheckpoint(filepath=path+'/saved_models/ANN_model_mfcc_plus_lpcc_pca.hdf5',\n",
        "                               monitor='val_accuracy',  # Monitor validation accuracy\n",
        "                               verbose=1,\n",
        "                               save_best_only=True,  # Save only the best model\n",
        "                               mode='max')\n",
        "start = datetime.now()\n",
        "\n",
        "model.fit(X_train_pca, Y_train, batch_size=num_batch_size, epochs=num_epochs, validation_data=(X_test_pca, Y_test), callbacks=[checkpointer], verbose=1)\n",
        "\n",
        "duration = datetime.now() - start\n",
        "print(\"Training completed in time: \", duration)"
      ],
      "metadata": {
        "id": "I3FXDzYMKFX8"
      },
      "execution_count": null,
      "outputs": []
    },
    {
      "cell_type": "code",
      "source": [
        "import matplotlib.pyplot as plt\n",
        "import numpy as np\n",
        "# Load the saved model\n",
        "loaded_model = tf.keras.models.load_model(path+'/saved_models/ANN_model_mfcc_plus_lpcc_pca.hdf5')\n",
        "\n",
        "# Predict the results\n",
        "Y_pred = loaded_model.predict(X_test_pca)\n",
        "Y_pred = np.argmax(Y_pred, axis=1)\n",
        "\n",
        "# Plot the confusion matrix\n",
        "from sklearn.metrics import confusion_matrix\n",
        "import seaborn as sns\n",
        "\n",
        "cm = confusion_matrix(Y_test, Y_pred)\n",
        "sns.heatmap(cm, annot=True, fmt=\"d\")\n",
        "plt.xlabel(\"Predicted\")\n",
        "plt.ylabel(\"Actual\")\n",
        "plt.title(\"Confusion Matrix\")\n",
        "plt.show()\n",
        "\n"
      ],
      "metadata": {
        "colab": {
          "base_uri": "https://localhost:8080/",
          "height": 489
        },
        "id": "rL0wSR9VgeJI",
        "outputId": "c6667fb7-d947-41bf-a93a-c7466ce1ddab"
      },
      "execution_count": null,
      "outputs": [
        {
          "output_type": "stream",
          "name": "stdout",
          "text": [
            "36/36 [==============================] - 0s 4ms/step\n"
          ]
        },
        {
          "output_type": "display_data",
          "data": {
            "text/plain": [
              "<Figure size 640x480 with 2 Axes>"
            ],
            "image/png": "[encoded data removed]"
          },
          "metadata": {}
        }
      ]
    },
    {
      "cell_type": "code",
      "source": [
        "from sklearn.metrics import precision_score, recall_score, accuracy_score,f1_score\n",
        "precision = precision_score(Y_test, Y_pred, average='macro')\n",
        "recall = recall_score(Y_test, Y_pred, average='macro')\n",
        "f1_scr = f1_score(Y_test, Y_pred, average='macro')\n",
        "accuracy = accuracy_score(Y_test, Y_pred)\n",
        "\n",
        "# Print the results\n",
        "print(\"Precision:\", precision)\n",
        "print(\"Recall:\", recall)\n",
        "print(\"F1 Score:\", f1_scr)\n",
        "print(\"Accuracy:\", accuracy)"
      ],
      "metadata": {
        "colab": {
          "base_uri": "https://localhost:8080/"
        },
        "id": "kIpLFDiSiOda",
        "outputId": "74e261eb-6697-40b6-ba83-5109dfded9cc"
      },
      "execution_count": null,
      "outputs": [
        {
          "output_type": "stream",
          "name": "stdout",
          "text": [
            "Precision: 0.6906607081954977\n",
            "Recall: 0.6864812640102443\n",
            "F1 Score: 0.6878317111303517\n",
            "Accuracy: 0.6892361111111112\n"
          ]
        }
      ]
    },
    {
      "cell_type": "code",
      "source": [
        "import matplotlib.pyplot as plt\n",
        "import numpy as np\n",
        "# Load the saved model\n",
        "loaded_model = tf.keras.models.load_model(path+'/saved_models/ANN_model_on_aug_dataset_7th_layer_pca.hdf5')\n",
        "\n",
        "# Predict the results\n",
        "Y_pred = loaded_model.predict(X_test_pca)\n",
        "Y_pred = np.argmax(Y_pred, axis=1)\n",
        "\n",
        "# Plot the confusion matrix\n",
        "from sklearn.metrics import confusion_matrix\n",
        "import seaborn as sns\n",
        "\n",
        "cm = confusion_matrix(Y_test, Y_pred)\n",
        "sns.heatmap(cm, annot=True, fmt=\"d\")\n",
        "plt.xlabel(\"Predicted\")\n",
        "plt.ylabel(\"Actual\")\n",
        "plt.title(\"Confusion Matrix\")\n",
        "plt.show()\n",
        "\n",
        "# prompt: now calculate precison, recall, for the same,accuracy\n",
        "\n",
        "from sklearn.metrics import precision_score, recall_score, accuracy_score\n",
        "# Calculate precision, recall, and accuracy\n",
        "precision = precision_score(Y_test, Y_pred, average='macro')\n",
        "recall = recall_score(Y_test, Y_pred, average='macro')\n",
        "accuracy = accuracy_score(Y_test, Y_pred)\n",
        "\n",
        "# Print the results\n",
        "print(\"Precision:\", precision)\n",
        "print(\"Recall:\", recall)\n",
        "print(\"Accuracy:\", accuracy)\n"
      ],
      "metadata": {
        "id": "owhF4py3VBV3"
      },
      "execution_count": null,
      "outputs": []
    },
    {
      "cell_type": "code",
      "source": [
        "# from sklearn.preprocessing import StandardScaler\n",
        "# from sklearn.decomposition import PCA\n",
        "\n",
        "# # # # Standardize the data\n",
        "# scaler = StandardScaler()\n",
        "# X_train_scaled = scaler.fit_transform(X_train)\n",
        "# X_test_scaled = scaler.transform(X_test)\n",
        "\n",
        "# print(len(X_train_scaled[0]))\n",
        "# # Perform PCA\n",
        "# pca = PCA(n_components=0.97)  # Choose the number of components that explain 95% of the variance\n",
        "# X_train_lm = pca.fit_transform(X_train_scaled)\n",
        "# X_test_lm = pca.transform(X_test_scaled)\n",
        "\n",
        "# print(len(X_train_lm[0]))\n",
        "# print(len(X_test_lm[0]))\n"
      ],
      "metadata": {
        "colab": {
          "base_uri": "https://localhost:8080/"
        },
        "id": "YM_-MznK9Raz",
        "outputId": "1178de91-7970-4152-ac53-67d72b31eace"
      },
      "execution_count": null,
      "outputs": [
        {
          "output_type": "stream",
          "name": "stdout",
          "text": [
            "64\n",
            "32\n",
            "32\n"
          ]
        }
      ]
    },
    {
      "cell_type": "code",
      "source": [
        "# from sklearn.model_selection import cross_val_score\n",
        "from sklearn.model_selection import StratifiedKFold\n",
        "# # from tensorflow.keras.models import load_model\n",
        "# # model_path = path + '/saved_models/dieases_classification.hdf5'\n",
        "# from scikeras.wrappers import KerasRegressor\n",
        "# from sklearn.preprocessing import StandardScaler\n",
        "# from sklearn.pipeline import Pipeline\n",
        "\n",
        "def create_model_ann_lpcc():\n",
        "    model=Sequential()\n",
        "    ###first layer\n",
        "    model.add(Dense(300,input_shape=(6,)))\n",
        "    model.add(Activation('relu'))\n",
        "    model.add(Dropout(0.2))\n",
        "    ###second layer\n",
        "    model.add(Dense(200))\n",
        "    model.add(Activation('relu'))\n",
        "    model.add(Dropout(0.2))\n",
        "    ###third layer\n",
        "    model.add(Dense(200))\n",
        "    model.add(Activation('relu'))\n",
        "    model.add(Dropout(0.2))\n",
        "    ###4th layer\n",
        "    model.add(Dense(200))\n",
        "    model.add(Activation('relu'))\n",
        "    model.add(Dropout(0.2))\n",
        "    ###5th layer\n",
        "    model.add(Dense(100))\n",
        "    model.add(Activation('relu'))\n",
        "    model.add(Dropout(0.2))\n",
        "    ###6th layer\n",
        "    model.add(Dense(32))\n",
        "    model.add(Activation('relu'))\n",
        "    model.add(Dropout(0.2))\n",
        "\n",
        "    ###final layer\n",
        "    model.add(Dense(3))\n",
        "    model.add(Activation('softmax'))\n",
        "\n",
        "    learning_rate = 0.00045  # Adjust the learning rate as needed\n",
        "    optimizer = Adam(learning_rate=learning_rate)\n",
        "\n",
        "    model.compile(loss='sparse_categorical_crossentropy',metrics=['accuracy'],optimizer=optimizer)\n",
        "    return model\n",
        "# # Load the saved model\n",
        "# loaded_model = load_model(model_path)\n",
        "# test_accuracy=loaded_model.evaluate(X_test,Y_test,verbose=0)\n",
        "# print(test_accuracy[1])\n",
        "# estimator = KerasClassifier(build_fn=create_model, epochs=500, batch_size=150, verbose=0)\n",
        "# kfold = StratifiedKFold(n_splits=5, shuffle=True, random_state=42)  # Adjust the number of splits as needed\n",
        "# results = cross_val_score(estimator, X, Y, cv=kfold,scoring='accuracy')"
      ],
      "metadata": {
        "id": "N4GnFUbrsJLB"
      },
      "execution_count": null,
      "outputs": []
    },
    {
      "cell_type": "markdown",
      "source": [],
      "metadata": {
        "id": "LWf1bPXozGf5"
      }
    },
    {
      "cell_type": "code",
      "source": [
        "#training ANN model...\n",
        "from tensorflow.keras.callbacks import ModelCheckpoint\n",
        "from datetime import datetime\n",
        "\n",
        "model=create_model_ann_lpcc()\n",
        "\n",
        "num_epochs = 400\n",
        "num_batch_size =64\n",
        "\n",
        "checkpointer = ModelCheckpoint(filepath=path+'/saved_models/ANN_model_on_aug_dataset_7th_layer_lpcc.hdf5',\n",
        "                               verbose=1)\n",
        "start = datetime.now()\n",
        "\n",
        "model.fit(X_train, Y_train, batch_size=num_batch_size, epochs=num_epochs, validation_data=(X_test, Y_test), callbacks=[checkpointer], verbose=1)\n",
        "\n",
        "duration = datetime.now() - start\n",
        "print(\"Training completed in time: \", duration)"
      ],
      "metadata": {
        "id": "jCpIwv-TsP9M"
      },
      "execution_count": null,
      "outputs": []
    },
    {
      "cell_type": "code",
      "source": [
        "import matplotlib.pyplot as plt\n",
        "import numpy as np\n",
        "# Load the saved model\n",
        "loaded_model = tf.keras.models.load_model(path+'/saved_models/ANN_model_on_aug_dataset_7th_layer_lpcc.hdf5')\n",
        "\n",
        "# Predict the results\n",
        "Y_pred = loaded_model.predict(X_test)\n",
        "Y_pred = np.argmax(Y_pred, axis=1)\n",
        "\n",
        "# Plot the confusion matrix\n",
        "from sklearn.metrics import confusion_matrix\n",
        "import seaborn as sns\n",
        "\n",
        "cm = confusion_matrix(Y_test, Y_pred)\n",
        "sns.heatmap(cm, annot=True, fmt=\"d\")\n",
        "plt.xlabel(\"Predicted\")\n",
        "plt.ylabel(\"Actual\")\n",
        "plt.title(\"Confusion Matrix\")\n",
        "plt.show()\n",
        "\n",
        "# prompt: now calculate precison, recall, for the same,accuracy\n",
        "\n",
        "from sklearn.metrics import precision_score, recall_score, accuracy_score\n",
        "# Calculate precision, recall, and accuracy\n",
        "precision = precision_score(Y_test, Y_pred, average='macro')\n",
        "recall = recall_score(Y_test, Y_pred, average='macro')\n",
        "accuracy = accuracy_score(Y_test, Y_pred)\n",
        "\n",
        "# Print the results\n",
        "print(\"Precision:\", precision)\n",
        "print(\"Recall:\", recall)\n",
        "print(\"Accuracy:\", accuracy)\n"
      ],
      "metadata": {
        "id": "VCJu_bXEtbC-"
      },
      "execution_count": null,
      "outputs": []
    },
    {
      "cell_type": "code",
      "source": [],
      "metadata": {
        "id": "pTqyzB2806mr"
      },
      "execution_count": null,
      "outputs": []
    },
    {
      "cell_type": "code",
      "source": [
        "path=\"/content/drive/MyDrive/sbvoiceDataset/\"\n",
        "label_features_df_saved=pd.read_json('/content/drive/MyDrive/sbvoiceAUG_Dataset/processed_data_multiclass_with_gender_age.json')\n",
        "label_features_df_saved.tail()\n",
        "\n",
        "X_lpcc=np.array(label_features_df_saved['feature'].tolist())\n",
        "Y_lpcc=np.array(label_features_df_saved['class'].tolist())\n",
        "Y_lpcc=Y_lpcc.reshape((-1,1))\n",
        "\n",
        "from sklearn.preprocessing import StandardScaler\n",
        "from sklearn.decomposition import PCA\n",
        "\n",
        "# # Standardize the data\n",
        "scaler = StandardScaler()\n",
        "X_lpcc_scaled = scaler.fit_transform(X_lpcc)\n",
        "# X_test_scaled = scaler.transform(X_test)\n",
        "\n",
        "print(len(X_lpcc_scaled[0]))\n",
        "# # Perform PCA\n",
        "pca = PCA(n_components=0.988)  # Choose the number of components that explain 98.8% of the variance\n",
        "X_lm = pca.fit_transform(X_lpcc_scaled)\n",
        "# X_test_lm = pca.transform(X_test_scaled)\n",
        "\n",
        "print(len(X_lm[0]))"
      ],
      "metadata": {
        "id": "I0POiIv9hB0W",
        "colab": {
          "base_uri": "https://localhost:8080/"
        },
        "outputId": "7ddbcfa5-5c36-48f2-be48-3304ff46b702"
      },
      "execution_count": null,
      "outputs": [
        {
          "output_type": "stream",
          "name": "stdout",
          "text": [
            "41\n",
            "36\n"
          ]
        }
      ]
    },
    {
      "cell_type": "code",
      "source": [
        "# implementing train-test-split\n",
        "X_train, X_test, Y_train, Y_test = train_test_split(X_lm, Y_lpcc, test_size=0.2, random_state=60)\n",
        "# Y_train, Y_test = to_categorical(Y_train), to_categorical(Y_test)\n",
        "print(X_train.shape,X_test.shape)\n",
        "print(Y_train.shape,Y_test.shape)\n",
        "\n"
      ],
      "metadata": {
        "colab": {
          "base_uri": "https://localhost:8080/"
        },
        "id": "qNWEBli-r2H3",
        "outputId": "eeda6204-dc32-442e-cb62-0f0275eb6051"
      },
      "execution_count": null,
      "outputs": [
        {
          "output_type": "stream",
          "name": "stdout",
          "text": [
            "(4606, 6) (1152, 6)\n",
            "(4606, 1) (1152, 1)\n"
          ]
        }
      ]
    },
    {
      "cell_type": "code",
      "source": [
        "# from sklearn.model_selection import cross_val_score\n",
        "from sklearn.model_selection import StratifiedKFold\n",
        "# # from tensorflow.keras.models import load_model\n",
        "# # model_path = path + '/saved_models/dieases_classification.hdf5'\n",
        "# from scikeras.wrappers import KerasRegressor\n",
        "# from sklearn.preprocessing import StandardScaler\n",
        "# from sklearn.pipeline import Pipeline\n",
        "\n",
        "def create_model_ann_lpcc_mfccs():\n",
        "    model=Sequential()\n",
        "    ###first layer\n",
        "    model.add(Dense(300,input_shape=(38,)))\n",
        "    model.add(Activation('relu'))\n",
        "    model.add(Dropout(0.2))\n",
        "    ###second layer\n",
        "    model.add(Dense(200))\n",
        "    model.add(Activation('relu'))\n",
        "    model.add(Dropout(0.2))\n",
        "    ###third layer\n",
        "    model.add(Dense(200))\n",
        "    model.add(Activation('relu'))\n",
        "    model.add(Dropout(0.2))\n",
        "    ###4th layer\n",
        "    model.add(Dense(200))\n",
        "    model.add(Activation('relu'))\n",
        "    model.add(Dropout(0.2))\n",
        "    ###5th layer\n",
        "    model.add(Dense(100))\n",
        "    model.add(Activation('relu'))\n",
        "    model.add(Dropout(0.2))\n",
        "    ###6th layer\n",
        "    model.add(Dense(32))\n",
        "    model.add(Activation('relu'))\n",
        "    model.add(Dropout(0.2))\n",
        "\n",
        "    ###final layer\n",
        "    model.add(Dense(3))\n",
        "    model.add(Activation('softmax'))\n",
        "\n",
        "    learning_rate = 0.00045  # Adjust the learning rate as needed\n",
        "    optimizer = Adam(learning_rate=learning_rate)\n",
        "\n",
        "    model.compile(loss='sparse_categorical_crossentropy',metrics=['accuracy'],optimizer=optimizer)\n",
        "    return model\n",
        "# # Load the saved model\n",
        "# loaded_model = load_model(model_path)\n",
        "# test_accuracy=loaded_model.evaluate(X_test,Y_test,verbose=0)\n",
        "# print(test_accuracy[1])\n",
        "# estimator = KerasClassifier(build_fn=create_model, epochs=500, batch_size=150, verbose=0)\n",
        "# kfold = StratifiedKFold(n_splits=5, shuffle=True, random_state=42)  # Adjust the number of splits as needed\n",
        "# results = cross_val_score(estimator, X, Y, cv=kfold,scoring='accuracy')"
      ],
      "metadata": {
        "id": "PixAcovq2Pyf"
      },
      "execution_count": null,
      "outputs": []
    },
    {
      "cell_type": "code",
      "source": [
        "from tensorflow.keras.callbacks import ModelCheckpoint\n",
        "from datetime import datetime\n",
        "\n",
        "model = create_model_ann_lpcc()\n",
        "\n",
        "num_epochs = 400\n",
        "num_batch_size = 64\n",
        "\n",
        "# Define the filepath for saving the best model\n",
        "checkpoint_path = path + '/saved_models/ANN_model_on_aug_dataset_7th_layer_lpcc_mfcc.hdf5'\n",
        "\n",
        "# Define ModelCheckpoint callback with save_best_only=True\n",
        "checkpointer = ModelCheckpoint(filepath=checkpoint_path,\n",
        "                               monitor='val_accuracy',  # Monitor validation accuracy\n",
        "                               verbose=1,\n",
        "                               save_best_only=True,  # Save only the best model\n",
        "                               mode='max')  # Save when validation accuracy is maximized\n",
        "\n",
        "start = datetime.now()\n",
        "\n",
        "# Train the model with ModelCheckpoint callback\n",
        "model.fit(X_train, Y_train,\n",
        "          batch_size=num_batch_size,\n",
        "          epochs=num_epochs,\n",
        "          validation_data=(X_test, Y_test),\n",
        "          callbacks=[checkpointer],\n",
        "          verbose=1)\n",
        "\n",
        "duration = datetime.now() - start\n",
        "print(\"Training completed in time: \", duration)\n"
      ],
      "metadata": {
        "id": "FB3x2RGz9Ds8"
      },
      "execution_count": null,
      "outputs": []
    },
    {
      "cell_type": "code",
      "source": [
        "import matplotlib.pyplot as plt\n",
        "import numpy as np\n",
        "# Load the saved model\n",
        "loaded_model = tf.keras.models.load_model(\"/content/drive/MyDrive/sbvoiceDataset//saved_models/ANN_model_on_aug_dataset_7th_layer_lpcc_mfcc.hdf5\")\n",
        "\n",
        "# Predict the results\n",
        "Y_pred = loaded_model.predict(X_test)\n",
        "Y_pred = np.argmax(Y_pred, axis=1)\n",
        "\n",
        "# Plot the confusion matrix\n",
        "from sklearn.metrics import confusion_matrix\n",
        "import seaborn as sns\n",
        "\n",
        "cm = confusion_matrix(Y_test, Y_pred)\n",
        "sns.heatmap(cm, annot=True, fmt=\"d\")\n",
        "plt.xlabel(\"Predicted\")\n",
        "plt.ylabel(\"Actual\")\n",
        "plt.title(\"Confusion Matrix\")\n",
        "plt.show()\n",
        "\n",
        "# prompt: now calculate precison, recall, for the same,accuracy\n",
        "\n",
        "from sklearn.metrics import precision_score, recall_score, accuracy_score\n",
        "# Calculate precision, recall, and accuracy\n",
        "precision = precision_score(Y_test, Y_pred, average='macro')\n",
        "recall = recall_score(Y_test, Y_pred, average='macro')\n",
        "accuracy = accuracy_score(Y_test, Y_pred)\n",
        "\n",
        "# Print the results\n",
        "print(\"Precision:\", precision)\n",
        "print(\"Recall:\", recall)\n",
        "print(\"Accuracy:\", accuracy)\n"
      ],
      "metadata": {
        "id": "WbNLBPD6A6BU"
      },
      "execution_count": null,
      "outputs": []
    },
    {
      "cell_type": "markdown",
      "source": [
        "---- scrap code--------"
      ],
      "metadata": {
        "id": "EzgOQT9IKKhT"
      }
    },
    {
      "cell_type": "code",
      "source": [
        "label_features=[]\n",
        "folder_path='/content/drive/MyDrive/sbvoiceDataset/Dataset'\n",
        "folders_labels=[[flder, 1 if 'healthy' in flder[len(folder_path):] else 0 ]for flder in glob.glob(folder_path+'/*')]\n",
        "\n",
        "for folder , label in (folders_labels):\n",
        "  label_features.extend(features_extractor_currect_folder(folder,label))"
      ],
      "metadata": {
        "id": "EcvdaPyj6kSa"
      },
      "execution_count": null,
      "outputs": []
    }
  ]
}